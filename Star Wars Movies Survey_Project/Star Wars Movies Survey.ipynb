{
 "cells": [
  {
   "cell_type": "code",
   "execution_count": 40,
   "id": "d608a894",
   "metadata": {},
   "outputs": [],
   "source": [
    "import os\n",
    "import numpy as np\n",
    "import pandas as pd\n",
    "import seaborn as sns\n",
    "import matplotlib.pyplot as plt\n",
    "import warnings\n",
    "import plotly.graph_objects as go\n",
    "import plotly.express as px\n",
    "warnings.filterwarnings('ignore')\n",
    "%matplotlib inline"
   ]
  },
  {
   "cell_type": "markdown",
   "id": "17f76a3f",
   "metadata": {},
   "source": [
    "## Reading Dataset"
   ]
  },
  {
   "cell_type": "code",
   "execution_count": 2,
   "id": "a4c115e9",
   "metadata": {},
   "outputs": [],
   "source": [
    "star_wars = pd.read_csv(\"D:\\Developer\\Data Science\\Projects\\Star Wars Movies Survey_Project\\CSV File\\star_wars.csv\")"
   ]
  },
  {
   "cell_type": "markdown",
   "id": "844976e3",
   "metadata": {},
   "source": [
    "## Oveview of the Dataframe"
   ]
  },
  {
   "cell_type": "code",
   "execution_count": 3,
   "id": "f4ce1018",
   "metadata": {},
   "outputs": [
    {
     "data": {
      "text/html": [
       "<div>\n",
       "<style scoped>\n",
       "    .dataframe tbody tr th:only-of-type {\n",
       "        vertical-align: middle;\n",
       "    }\n",
       "\n",
       "    .dataframe tbody tr th {\n",
       "        vertical-align: top;\n",
       "    }\n",
       "\n",
       "    .dataframe thead th {\n",
       "        text-align: right;\n",
       "    }\n",
       "</style>\n",
       "<table border=\"1\" class=\"dataframe\">\n",
       "  <thead>\n",
       "    <tr style=\"text-align: right;\">\n",
       "      <th></th>\n",
       "      <th>RespondentID</th>\n",
       "      <th>Have you seen any of the 6 films in the Star Wars franchise?</th>\n",
       "      <th>Do you consider yourself to be a fan of the Star Wars film franchise?</th>\n",
       "      <th>Which of the following Star Wars films have you seen? Please select all that apply.</th>\n",
       "      <th>Unnamed: 4</th>\n",
       "      <th>Unnamed: 5</th>\n",
       "      <th>Unnamed: 6</th>\n",
       "      <th>Unnamed: 7</th>\n",
       "      <th>Unnamed: 8</th>\n",
       "      <th>Please rank the Star Wars films in order of preference with 1 being your favorite film in the franchise and 6 being your least favorite film.</th>\n",
       "      <th>...</th>\n",
       "      <th>Unnamed: 28</th>\n",
       "      <th>Which character shot first?</th>\n",
       "      <th>Are you familiar with the Expanded Universe?</th>\n",
       "      <th>Do you consider yourself to be a fan of the Expanded Universe?</th>\n",
       "      <th>Do you consider yourself to be a fan of the Star Trek franchise?</th>\n",
       "      <th>Gender</th>\n",
       "      <th>Age</th>\n",
       "      <th>Household Income</th>\n",
       "      <th>Education</th>\n",
       "      <th>Location (Census Region)</th>\n",
       "    </tr>\n",
       "  </thead>\n",
       "  <tbody>\n",
       "    <tr>\n",
       "      <th>0</th>\n",
       "      <td>3292879998</td>\n",
       "      <td>Yes</td>\n",
       "      <td>Yes</td>\n",
       "      <td>Star Wars: Episode I  The Phantom Menace</td>\n",
       "      <td>Star Wars: Episode II  Attack of the Clones</td>\n",
       "      <td>Star Wars: Episode III  Revenge of the Sith</td>\n",
       "      <td>Star Wars: Episode IV  A New Hope</td>\n",
       "      <td>Star Wars: Episode V The Empire Strikes Back</td>\n",
       "      <td>Star Wars: Episode VI Return of the Jedi</td>\n",
       "      <td>3.0</td>\n",
       "      <td>...</td>\n",
       "      <td>Very favorably</td>\n",
       "      <td>I don't understand this question</td>\n",
       "      <td>Yes</td>\n",
       "      <td>No</td>\n",
       "      <td>No</td>\n",
       "      <td>Male</td>\n",
       "      <td>18-29</td>\n",
       "      <td>NaN</td>\n",
       "      <td>High school degree</td>\n",
       "      <td>South Atlantic</td>\n",
       "    </tr>\n",
       "    <tr>\n",
       "      <th>1</th>\n",
       "      <td>3292879538</td>\n",
       "      <td>No</td>\n",
       "      <td>NaN</td>\n",
       "      <td>NaN</td>\n",
       "      <td>NaN</td>\n",
       "      <td>NaN</td>\n",
       "      <td>NaN</td>\n",
       "      <td>NaN</td>\n",
       "      <td>NaN</td>\n",
       "      <td>NaN</td>\n",
       "      <td>...</td>\n",
       "      <td>NaN</td>\n",
       "      <td>NaN</td>\n",
       "      <td>NaN</td>\n",
       "      <td>NaN</td>\n",
       "      <td>Yes</td>\n",
       "      <td>Male</td>\n",
       "      <td>18-29</td>\n",
       "      <td>$0 - $24,999</td>\n",
       "      <td>Bachelor degree</td>\n",
       "      <td>West South Central</td>\n",
       "    </tr>\n",
       "    <tr>\n",
       "      <th>2</th>\n",
       "      <td>3292765271</td>\n",
       "      <td>Yes</td>\n",
       "      <td>No</td>\n",
       "      <td>Star Wars: Episode I  The Phantom Menace</td>\n",
       "      <td>Star Wars: Episode II  Attack of the Clones</td>\n",
       "      <td>Star Wars: Episode III  Revenge of the Sith</td>\n",
       "      <td>NaN</td>\n",
       "      <td>NaN</td>\n",
       "      <td>NaN</td>\n",
       "      <td>1.0</td>\n",
       "      <td>...</td>\n",
       "      <td>Unfamiliar (N/A)</td>\n",
       "      <td>I don't understand this question</td>\n",
       "      <td>No</td>\n",
       "      <td>NaN</td>\n",
       "      <td>No</td>\n",
       "      <td>Male</td>\n",
       "      <td>18-29</td>\n",
       "      <td>$0 - $24,999</td>\n",
       "      <td>High school degree</td>\n",
       "      <td>West North Central</td>\n",
       "    </tr>\n",
       "    <tr>\n",
       "      <th>3</th>\n",
       "      <td>3292763116</td>\n",
       "      <td>Yes</td>\n",
       "      <td>Yes</td>\n",
       "      <td>Star Wars: Episode I  The Phantom Menace</td>\n",
       "      <td>Star Wars: Episode II  Attack of the Clones</td>\n",
       "      <td>Star Wars: Episode III  Revenge of the Sith</td>\n",
       "      <td>Star Wars: Episode IV  A New Hope</td>\n",
       "      <td>Star Wars: Episode V The Empire Strikes Back</td>\n",
       "      <td>Star Wars: Episode VI Return of the Jedi</td>\n",
       "      <td>5.0</td>\n",
       "      <td>...</td>\n",
       "      <td>Very favorably</td>\n",
       "      <td>I don't understand this question</td>\n",
       "      <td>No</td>\n",
       "      <td>NaN</td>\n",
       "      <td>Yes</td>\n",
       "      <td>Male</td>\n",
       "      <td>18-29</td>\n",
       "      <td>$100,000 - $149,999</td>\n",
       "      <td>Some college or Associate degree</td>\n",
       "      <td>West North Central</td>\n",
       "    </tr>\n",
       "    <tr>\n",
       "      <th>4</th>\n",
       "      <td>3292731220</td>\n",
       "      <td>Yes</td>\n",
       "      <td>Yes</td>\n",
       "      <td>Star Wars: Episode I  The Phantom Menace</td>\n",
       "      <td>Star Wars: Episode II  Attack of the Clones</td>\n",
       "      <td>Star Wars: Episode III  Revenge of the Sith</td>\n",
       "      <td>Star Wars: Episode IV  A New Hope</td>\n",
       "      <td>Star Wars: Episode V The Empire Strikes Back</td>\n",
       "      <td>Star Wars: Episode VI Return of the Jedi</td>\n",
       "      <td>5.0</td>\n",
       "      <td>...</td>\n",
       "      <td>Somewhat favorably</td>\n",
       "      <td>Greedo</td>\n",
       "      <td>Yes</td>\n",
       "      <td>No</td>\n",
       "      <td>No</td>\n",
       "      <td>Male</td>\n",
       "      <td>18-29</td>\n",
       "      <td>$100,000 - $149,999</td>\n",
       "      <td>Some college or Associate degree</td>\n",
       "      <td>West North Central</td>\n",
       "    </tr>\n",
       "    <tr>\n",
       "      <th>...</th>\n",
       "      <td>...</td>\n",
       "      <td>...</td>\n",
       "      <td>...</td>\n",
       "      <td>...</td>\n",
       "      <td>...</td>\n",
       "      <td>...</td>\n",
       "      <td>...</td>\n",
       "      <td>...</td>\n",
       "      <td>...</td>\n",
       "      <td>...</td>\n",
       "      <td>...</td>\n",
       "      <td>...</td>\n",
       "      <td>...</td>\n",
       "      <td>...</td>\n",
       "      <td>...</td>\n",
       "      <td>...</td>\n",
       "      <td>...</td>\n",
       "      <td>...</td>\n",
       "      <td>...</td>\n",
       "      <td>...</td>\n",
       "      <td>...</td>\n",
       "    </tr>\n",
       "    <tr>\n",
       "      <th>1181</th>\n",
       "      <td>3288388730</td>\n",
       "      <td>Yes</td>\n",
       "      <td>Yes</td>\n",
       "      <td>Star Wars: Episode I  The Phantom Menace</td>\n",
       "      <td>Star Wars: Episode II  Attack of the Clones</td>\n",
       "      <td>Star Wars: Episode III  Revenge of the Sith</td>\n",
       "      <td>Star Wars: Episode IV  A New Hope</td>\n",
       "      <td>Star Wars: Episode V The Empire Strikes Back</td>\n",
       "      <td>Star Wars: Episode VI Return of the Jedi</td>\n",
       "      <td>5.0</td>\n",
       "      <td>...</td>\n",
       "      <td>Very favorably</td>\n",
       "      <td>Han</td>\n",
       "      <td>No</td>\n",
       "      <td>NaN</td>\n",
       "      <td>Yes</td>\n",
       "      <td>Female</td>\n",
       "      <td>18-29</td>\n",
       "      <td>$0 - $24,999</td>\n",
       "      <td>Some college or Associate degree</td>\n",
       "      <td>East North Central</td>\n",
       "    </tr>\n",
       "    <tr>\n",
       "      <th>1182</th>\n",
       "      <td>3288378779</td>\n",
       "      <td>Yes</td>\n",
       "      <td>Yes</td>\n",
       "      <td>Star Wars: Episode I  The Phantom Menace</td>\n",
       "      <td>Star Wars: Episode II  Attack of the Clones</td>\n",
       "      <td>Star Wars: Episode III  Revenge of the Sith</td>\n",
       "      <td>Star Wars: Episode IV  A New Hope</td>\n",
       "      <td>Star Wars: Episode V The Empire Strikes Back</td>\n",
       "      <td>Star Wars: Episode VI Return of the Jedi</td>\n",
       "      <td>4.0</td>\n",
       "      <td>...</td>\n",
       "      <td>Very favorably</td>\n",
       "      <td>I don't understand this question</td>\n",
       "      <td>No</td>\n",
       "      <td>NaN</td>\n",
       "      <td>Yes</td>\n",
       "      <td>Female</td>\n",
       "      <td>30-44</td>\n",
       "      <td>$50,000 - $99,999</td>\n",
       "      <td>Bachelor degree</td>\n",
       "      <td>Mountain</td>\n",
       "    </tr>\n",
       "    <tr>\n",
       "      <th>1183</th>\n",
       "      <td>3288375286</td>\n",
       "      <td>No</td>\n",
       "      <td>NaN</td>\n",
       "      <td>NaN</td>\n",
       "      <td>NaN</td>\n",
       "      <td>NaN</td>\n",
       "      <td>NaN</td>\n",
       "      <td>NaN</td>\n",
       "      <td>NaN</td>\n",
       "      <td>NaN</td>\n",
       "      <td>...</td>\n",
       "      <td>NaN</td>\n",
       "      <td>NaN</td>\n",
       "      <td>NaN</td>\n",
       "      <td>NaN</td>\n",
       "      <td>No</td>\n",
       "      <td>Female</td>\n",
       "      <td>30-44</td>\n",
       "      <td>$50,000 - $99,999</td>\n",
       "      <td>Bachelor degree</td>\n",
       "      <td>Middle Atlantic</td>\n",
       "    </tr>\n",
       "    <tr>\n",
       "      <th>1184</th>\n",
       "      <td>3288373068</td>\n",
       "      <td>Yes</td>\n",
       "      <td>Yes</td>\n",
       "      <td>Star Wars: Episode I  The Phantom Menace</td>\n",
       "      <td>Star Wars: Episode II  Attack of the Clones</td>\n",
       "      <td>Star Wars: Episode III  Revenge of the Sith</td>\n",
       "      <td>Star Wars: Episode IV  A New Hope</td>\n",
       "      <td>Star Wars: Episode V The Empire Strikes Back</td>\n",
       "      <td>Star Wars: Episode VI Return of the Jedi</td>\n",
       "      <td>4.0</td>\n",
       "      <td>...</td>\n",
       "      <td>Very favorably</td>\n",
       "      <td>Han</td>\n",
       "      <td>No</td>\n",
       "      <td>NaN</td>\n",
       "      <td>Yes</td>\n",
       "      <td>Female</td>\n",
       "      <td>45-60</td>\n",
       "      <td>$100,000 - $149,999</td>\n",
       "      <td>Some college or Associate degree</td>\n",
       "      <td>East North Central</td>\n",
       "    </tr>\n",
       "    <tr>\n",
       "      <th>1185</th>\n",
       "      <td>3288372923</td>\n",
       "      <td>Yes</td>\n",
       "      <td>No</td>\n",
       "      <td>Star Wars: Episode I  The Phantom Menace</td>\n",
       "      <td>Star Wars: Episode II  Attack of the Clones</td>\n",
       "      <td>NaN</td>\n",
       "      <td>NaN</td>\n",
       "      <td>Star Wars: Episode V The Empire Strikes Back</td>\n",
       "      <td>Star Wars: Episode VI Return of the Jedi</td>\n",
       "      <td>6.0</td>\n",
       "      <td>...</td>\n",
       "      <td>Very unfavorably</td>\n",
       "      <td>I don't understand this question</td>\n",
       "      <td>No</td>\n",
       "      <td>NaN</td>\n",
       "      <td>No</td>\n",
       "      <td>Female</td>\n",
       "      <td>&gt; 60</td>\n",
       "      <td>$50,000 - $99,999</td>\n",
       "      <td>Graduate degree</td>\n",
       "      <td>Pacific</td>\n",
       "    </tr>\n",
       "  </tbody>\n",
       "</table>\n",
       "<p>1186 rows × 38 columns</p>\n",
       "</div>"
      ],
      "text/plain": [
       "      RespondentID  \\\n",
       "0       3292879998   \n",
       "1       3292879538   \n",
       "2       3292765271   \n",
       "3       3292763116   \n",
       "4       3292731220   \n",
       "...            ...   \n",
       "1181    3288388730   \n",
       "1182    3288378779   \n",
       "1183    3288375286   \n",
       "1184    3288373068   \n",
       "1185    3288372923   \n",
       "\n",
       "     Have you seen any of the 6 films in the Star Wars franchise?  \\\n",
       "0                                                   Yes             \n",
       "1                                                    No             \n",
       "2                                                   Yes             \n",
       "3                                                   Yes             \n",
       "4                                                   Yes             \n",
       "...                                                 ...             \n",
       "1181                                                Yes             \n",
       "1182                                                Yes             \n",
       "1183                                                 No             \n",
       "1184                                                Yes             \n",
       "1185                                                Yes             \n",
       "\n",
       "     Do you consider yourself to be a fan of the Star Wars film franchise?  \\\n",
       "0                                                   Yes                      \n",
       "1                                                   NaN                      \n",
       "2                                                    No                      \n",
       "3                                                   Yes                      \n",
       "4                                                   Yes                      \n",
       "...                                                 ...                      \n",
       "1181                                                Yes                      \n",
       "1182                                                Yes                      \n",
       "1183                                                NaN                      \n",
       "1184                                                Yes                      \n",
       "1185                                                 No                      \n",
       "\n",
       "     Which of the following Star Wars films have you seen? Please select all that apply.  \\\n",
       "0              Star Wars: Episode I  The Phantom Menace                                    \n",
       "1                                                   NaN                                    \n",
       "2              Star Wars: Episode I  The Phantom Menace                                    \n",
       "3              Star Wars: Episode I  The Phantom Menace                                    \n",
       "4              Star Wars: Episode I  The Phantom Menace                                    \n",
       "...                                                 ...                                    \n",
       "1181           Star Wars: Episode I  The Phantom Menace                                    \n",
       "1182           Star Wars: Episode I  The Phantom Menace                                    \n",
       "1183                                                NaN                                    \n",
       "1184           Star Wars: Episode I  The Phantom Menace                                    \n",
       "1185           Star Wars: Episode I  The Phantom Menace                                    \n",
       "\n",
       "                                       Unnamed: 4  \\\n",
       "0     Star Wars: Episode II  Attack of the Clones   \n",
       "1                                             NaN   \n",
       "2     Star Wars: Episode II  Attack of the Clones   \n",
       "3     Star Wars: Episode II  Attack of the Clones   \n",
       "4     Star Wars: Episode II  Attack of the Clones   \n",
       "...                                           ...   \n",
       "1181  Star Wars: Episode II  Attack of the Clones   \n",
       "1182  Star Wars: Episode II  Attack of the Clones   \n",
       "1183                                          NaN   \n",
       "1184  Star Wars: Episode II  Attack of the Clones   \n",
       "1185  Star Wars: Episode II  Attack of the Clones   \n",
       "\n",
       "                                       Unnamed: 5  \\\n",
       "0     Star Wars: Episode III  Revenge of the Sith   \n",
       "1                                             NaN   \n",
       "2     Star Wars: Episode III  Revenge of the Sith   \n",
       "3     Star Wars: Episode III  Revenge of the Sith   \n",
       "4     Star Wars: Episode III  Revenge of the Sith   \n",
       "...                                           ...   \n",
       "1181  Star Wars: Episode III  Revenge of the Sith   \n",
       "1182  Star Wars: Episode III  Revenge of the Sith   \n",
       "1183                                          NaN   \n",
       "1184  Star Wars: Episode III  Revenge of the Sith   \n",
       "1185                                          NaN   \n",
       "\n",
       "                             Unnamed: 6  \\\n",
       "0     Star Wars: Episode IV  A New Hope   \n",
       "1                                   NaN   \n",
       "2                                   NaN   \n",
       "3     Star Wars: Episode IV  A New Hope   \n",
       "4     Star Wars: Episode IV  A New Hope   \n",
       "...                                 ...   \n",
       "1181  Star Wars: Episode IV  A New Hope   \n",
       "1182  Star Wars: Episode IV  A New Hope   \n",
       "1183                                NaN   \n",
       "1184  Star Wars: Episode IV  A New Hope   \n",
       "1185                                NaN   \n",
       "\n",
       "                                        Unnamed: 7  \\\n",
       "0     Star Wars: Episode V The Empire Strikes Back   \n",
       "1                                              NaN   \n",
       "2                                              NaN   \n",
       "3     Star Wars: Episode V The Empire Strikes Back   \n",
       "4     Star Wars: Episode V The Empire Strikes Back   \n",
       "...                                            ...   \n",
       "1181  Star Wars: Episode V The Empire Strikes Back   \n",
       "1182  Star Wars: Episode V The Empire Strikes Back   \n",
       "1183                                           NaN   \n",
       "1184  Star Wars: Episode V The Empire Strikes Back   \n",
       "1185  Star Wars: Episode V The Empire Strikes Back   \n",
       "\n",
       "                                    Unnamed: 8  \\\n",
       "0     Star Wars: Episode VI Return of the Jedi   \n",
       "1                                          NaN   \n",
       "2                                          NaN   \n",
       "3     Star Wars: Episode VI Return of the Jedi   \n",
       "4     Star Wars: Episode VI Return of the Jedi   \n",
       "...                                        ...   \n",
       "1181  Star Wars: Episode VI Return of the Jedi   \n",
       "1182  Star Wars: Episode VI Return of the Jedi   \n",
       "1183                                       NaN   \n",
       "1184  Star Wars: Episode VI Return of the Jedi   \n",
       "1185  Star Wars: Episode VI Return of the Jedi   \n",
       "\n",
       "      Please rank the Star Wars films in order of preference with 1 being your favorite film in the franchise and 6 being your least favorite film.  \\\n",
       "0                                                   3.0                                                                                               \n",
       "1                                                   NaN                                                                                               \n",
       "2                                                   1.0                                                                                               \n",
       "3                                                   5.0                                                                                               \n",
       "4                                                   5.0                                                                                               \n",
       "...                                                 ...                                                                                               \n",
       "1181                                                5.0                                                                                               \n",
       "1182                                                4.0                                                                                               \n",
       "1183                                                NaN                                                                                               \n",
       "1184                                                4.0                                                                                               \n",
       "1185                                                6.0                                                                                               \n",
       "\n",
       "      ...         Unnamed: 28       Which character shot first?  \\\n",
       "0     ...      Very favorably  I don't understand this question   \n",
       "1     ...                 NaN                               NaN   \n",
       "2     ...    Unfamiliar (N/A)  I don't understand this question   \n",
       "3     ...      Very favorably  I don't understand this question   \n",
       "4     ...  Somewhat favorably                            Greedo   \n",
       "...   ...                 ...                               ...   \n",
       "1181  ...      Very favorably                               Han   \n",
       "1182  ...      Very favorably  I don't understand this question   \n",
       "1183  ...                 NaN                               NaN   \n",
       "1184  ...      Very favorably                               Han   \n",
       "1185  ...    Very unfavorably  I don't understand this question   \n",
       "\n",
       "      Are you familiar with the Expanded Universe?  \\\n",
       "0                                              Yes   \n",
       "1                                              NaN   \n",
       "2                                               No   \n",
       "3                                               No   \n",
       "4                                              Yes   \n",
       "...                                            ...   \n",
       "1181                                            No   \n",
       "1182                                            No   \n",
       "1183                                           NaN   \n",
       "1184                                            No   \n",
       "1185                                            No   \n",
       "\n",
       "      Do you consider yourself to be a fan of the Expanded Universe?  \\\n",
       "0                                                    No                \n",
       "1                                                   NaN                \n",
       "2                                                   NaN                \n",
       "3                                                   NaN                \n",
       "4                                                    No                \n",
       "...                                                 ...                \n",
       "1181                                                NaN                \n",
       "1182                                                NaN                \n",
       "1183                                                NaN                \n",
       "1184                                                NaN                \n",
       "1185                                                NaN                \n",
       "\n",
       "      Do you consider yourself to be a fan of the Star Trek franchise?  \\\n",
       "0                                                    No                  \n",
       "1                                                   Yes                  \n",
       "2                                                    No                  \n",
       "3                                                   Yes                  \n",
       "4                                                    No                  \n",
       "...                                                 ...                  \n",
       "1181                                                Yes                  \n",
       "1182                                                Yes                  \n",
       "1183                                                 No                  \n",
       "1184                                                Yes                  \n",
       "1185                                                 No                  \n",
       "\n",
       "      Gender    Age     Household Income                         Education  \\\n",
       "0       Male  18-29                  NaN                High school degree   \n",
       "1       Male  18-29         $0 - $24,999                   Bachelor degree   \n",
       "2       Male  18-29         $0 - $24,999                High school degree   \n",
       "3       Male  18-29  $100,000 - $149,999  Some college or Associate degree   \n",
       "4       Male  18-29  $100,000 - $149,999  Some college or Associate degree   \n",
       "...      ...    ...                  ...                               ...   \n",
       "1181  Female  18-29         $0 - $24,999  Some college or Associate degree   \n",
       "1182  Female  30-44    $50,000 - $99,999                   Bachelor degree   \n",
       "1183  Female  30-44    $50,000 - $99,999                   Bachelor degree   \n",
       "1184  Female  45-60  $100,000 - $149,999  Some college or Associate degree   \n",
       "1185  Female   > 60    $50,000 - $99,999                   Graduate degree   \n",
       "\n",
       "     Location (Census Region)  \n",
       "0              South Atlantic  \n",
       "1          West South Central  \n",
       "2          West North Central  \n",
       "3          West North Central  \n",
       "4          West North Central  \n",
       "...                       ...  \n",
       "1181       East North Central  \n",
       "1182                 Mountain  \n",
       "1183          Middle Atlantic  \n",
       "1184       East North Central  \n",
       "1185                  Pacific  \n",
       "\n",
       "[1186 rows x 38 columns]"
      ]
     },
     "execution_count": 3,
     "metadata": {},
     "output_type": "execute_result"
    }
   ],
   "source": [
    "star_wars"
   ]
  },
  {
   "cell_type": "code",
   "execution_count": 4,
   "id": "62b3995d",
   "metadata": {},
   "outputs": [
    {
     "name": "stdout",
     "output_type": "stream",
     "text": [
      "<class 'pandas.core.frame.DataFrame'>\n",
      "RangeIndex: 1186 entries, 0 to 1185\n",
      "Data columns (total 38 columns):\n",
      " #   Column                                                                                                                                         Non-Null Count  Dtype  \n",
      "---  ------                                                                                                                                         --------------  -----  \n",
      " 0   RespondentID                                                                                                                                   1186 non-null   int64  \n",
      " 1   Have you seen any of the 6 films in the Star Wars franchise?                                                                                   1186 non-null   object \n",
      " 2   Do you consider yourself to be a fan of the Star Wars film franchise?                                                                          836 non-null    object \n",
      " 3   Which of the following Star Wars films have you seen? Please select all that apply.                                                            673 non-null    object \n",
      " 4   Unnamed: 4                                                                                                                                     571 non-null    object \n",
      " 5   Unnamed: 5                                                                                                                                     550 non-null    object \n",
      " 6   Unnamed: 6                                                                                                                                     607 non-null    object \n",
      " 7   Unnamed: 7                                                                                                                                     758 non-null    object \n",
      " 8   Unnamed: 8                                                                                                                                     738 non-null    object \n",
      " 9   Please rank the Star Wars films in order of preference with 1 being your favorite film in the franchise and 6 being your least favorite film.  835 non-null    float64\n",
      " 10  Unnamed: 10                                                                                                                                    836 non-null    float64\n",
      " 11  Unnamed: 11                                                                                                                                    835 non-null    float64\n",
      " 12  Unnamed: 12                                                                                                                                    836 non-null    float64\n",
      " 13  Unnamed: 13                                                                                                                                    836 non-null    float64\n",
      " 14  Unnamed: 14                                                                                                                                    836 non-null    float64\n",
      " 15  Please state whether you view the following characters favorably, unfavorably, or are unfamiliar with him/her.                                 829 non-null    object \n",
      " 16  Unnamed: 16                                                                                                                                    831 non-null    object \n",
      " 17  Unnamed: 17                                                                                                                                    831 non-null    object \n",
      " 18  Unnamed: 18                                                                                                                                    823 non-null    object \n",
      " 19  Unnamed: 19                                                                                                                                    825 non-null    object \n",
      " 20  Unnamed: 20                                                                                                                                    814 non-null    object \n",
      " 21  Unnamed: 21                                                                                                                                    826 non-null    object \n",
      " 22  Unnamed: 22                                                                                                                                    820 non-null    object \n",
      " 23  Unnamed: 23                                                                                                                                    812 non-null    object \n",
      " 24  Unnamed: 24                                                                                                                                    827 non-null    object \n",
      " 25  Unnamed: 25                                                                                                                                    830 non-null    object \n",
      " 26  Unnamed: 26                                                                                                                                    821 non-null    object \n",
      " 27  Unnamed: 27                                                                                                                                    814 non-null    object \n",
      " 28  Unnamed: 28                                                                                                                                    826 non-null    object \n",
      " 29  Which character shot first?                                                                                                                    828 non-null    object \n",
      " 30  Are you familiar with the Expanded Universe?                                                                                                   828 non-null    object \n",
      " 31  Do you consider yourself to be a fan of the Expanded Universe?                                                                                 213 non-null    object \n",
      " 32  Do you consider yourself to be a fan of the Star Trek franchise?                                                                               1068 non-null   object \n",
      " 33  Gender                                                                                                                                         1046 non-null   object \n",
      " 34  Age                                                                                                                                            1046 non-null   object \n",
      " 35  Household Income                                                                                                                               858 non-null    object \n",
      " 36  Education                                                                                                                                      1036 non-null   object \n",
      " 37  Location (Census Region)                                                                                                                       1043 non-null   object \n",
      "dtypes: float64(6), int64(1), object(31)\n",
      "memory usage: 352.2+ KB\n"
     ]
    }
   ],
   "source": [
    "star_wars.info()"
   ]
  },
  {
   "cell_type": "code",
   "execution_count": 5,
   "id": "01f76c2a",
   "metadata": {},
   "outputs": [
    {
     "data": {
      "text/plain": [
       "Index(['RespondentID',\n",
       "       'Have you seen any of the 6 films in the Star Wars franchise?',\n",
       "       'Do you consider yourself to be a fan of the Star Wars film franchise?',\n",
       "       'Which of the following Star Wars films have you seen? Please select all that apply.',\n",
       "       'Unnamed: 4', 'Unnamed: 5', 'Unnamed: 6', 'Unnamed: 7', 'Unnamed: 8',\n",
       "       'Please rank the Star Wars films in order of preference with 1 being your favorite film in the franchise and 6 being your least favorite film.',\n",
       "       'Unnamed: 10', 'Unnamed: 11', 'Unnamed: 12', 'Unnamed: 13',\n",
       "       'Unnamed: 14',\n",
       "       'Please state whether you view the following characters favorably, unfavorably, or are unfamiliar with him/her.',\n",
       "       'Unnamed: 16', 'Unnamed: 17', 'Unnamed: 18', 'Unnamed: 19',\n",
       "       'Unnamed: 20', 'Unnamed: 21', 'Unnamed: 22', 'Unnamed: 23',\n",
       "       'Unnamed: 24', 'Unnamed: 25', 'Unnamed: 26', 'Unnamed: 27',\n",
       "       'Unnamed: 28', 'Which character shot first?',\n",
       "       'Are you familiar with the Expanded Universe?',\n",
       "       'Do you consider yourself to be a fan of the Expanded Universe?',\n",
       "       'Do you consider yourself to be a fan of the Star Trek franchise?',\n",
       "       'Gender', 'Age', 'Household Income', 'Education',\n",
       "       'Location (Census Region)'],\n",
       "      dtype='object')"
      ]
     },
     "execution_count": 5,
     "metadata": {},
     "output_type": "execute_result"
    }
   ],
   "source": [
    "star_wars.columns"
   ]
  },
  {
   "cell_type": "code",
   "execution_count": 6,
   "id": "202ac4be",
   "metadata": {},
   "outputs": [
    {
     "data": {
      "text/plain": [
       "Yes    936\n",
       "No     250\n",
       "Name: Have you seen any of the 6 films in the Star Wars franchise?, dtype: int64"
      ]
     },
     "execution_count": 6,
     "metadata": {},
     "output_type": "execute_result"
    }
   ],
   "source": [
    "star_wars['Have you seen any of the 6 films in the Star Wars franchise?'].value_counts()"
   ]
  },
  {
   "cell_type": "code",
   "execution_count": 7,
   "id": "cebcf1fb",
   "metadata": {},
   "outputs": [
    {
     "data": {
      "text/plain": [
       "Yes    552\n",
       "No     284\n",
       "Name: Do you consider yourself to be a fan of the Star Wars film franchise?, dtype: int64"
      ]
     },
     "execution_count": 7,
     "metadata": {},
     "output_type": "execute_result"
    }
   ],
   "source": [
    "star_wars['Do you consider yourself to be a fan of the Star Wars film franchise?'].value_counts()"
   ]
  },
  {
   "cell_type": "markdown",
   "id": "f509541a",
   "metadata": {},
   "source": [
    "## Cleaning and Mapping Yes/No Columns\n",
    "    Conversion to Boolean Type"
   ]
  },
  {
   "cell_type": "code",
   "execution_count": 8,
   "id": "181124dc",
   "metadata": {},
   "outputs": [],
   "source": [
    "yes_no = {'Yes' : True, \n",
    "          'No' : False, \n",
    "          'NaN' : np.NaN}\n",
    "\n",
    "#series.map() will change the values to boolean type\n",
    "star_wars['Have you seen any of the 6 films in the Star Wars franchise?'] = star_wars['Have you seen any of the 6 films in the Star Wars franchise?'].map(yes_no)\n",
    "star_wars['Do you consider yourself to be a fan of the Star Wars film franchise?'] = star_wars['Do you consider yourself to be a fan of the Star Wars film franchise?'].map(yes_no)\n",
    "star_wars['Are you familiar with the Expanded Universe?'] = star_wars['Are you familiar with the Expanded Universe?'].map(yes_no)\n",
    "star_wars['Do you consider yourself to be a fan of the Expanded Universe?'] = star_wars['Do you consider yourself to be a fan of the Expanded Universe?'].map(yes_no)\n",
    "star_wars['Do you consider yourself to be a fan of the Star Trek franchise?'] = star_wars['Do you consider yourself to be a fan of the Star Trek franchise?'].map(yes_no)"
   ]
  },
  {
   "cell_type": "code",
   "execution_count": 9,
   "id": "2405981b",
   "metadata": {},
   "outputs": [
    {
     "data": {
      "text/plain": [
       "True     552\n",
       "False    284\n",
       "Name: Do you consider yourself to be a fan of the Star Wars film franchise?, dtype: int64"
      ]
     },
     "execution_count": 9,
     "metadata": {},
     "output_type": "execute_result"
    }
   ],
   "source": [
    "star_wars['Do you consider yourself to be a fan of the Star Wars film franchise?'].value_counts()"
   ]
  },
  {
   "cell_type": "code",
   "execution_count": 10,
   "id": "6a9cbc75",
   "metadata": {},
   "outputs": [
    {
     "data": {
      "text/plain": [
       "0"
      ]
     },
     "execution_count": 10,
     "metadata": {},
     "output_type": "execute_result"
    }
   ],
   "source": [
    "star_wars['Have you seen any of the 6 films in the Star Wars franchise?'].isnull().sum()"
   ]
  },
  {
   "cell_type": "markdown",
   "id": "c5b88677",
   "metadata": {},
   "source": [
    "##  Cleaning and Mapping Checkbox Columns"
   ]
  },
  {
   "cell_type": "code",
   "execution_count": 11,
   "id": "9db748b9",
   "metadata": {},
   "outputs": [
    {
     "data": {
      "text/html": [
       "<div>\n",
       "<style scoped>\n",
       "    .dataframe tbody tr th:only-of-type {\n",
       "        vertical-align: middle;\n",
       "    }\n",
       "\n",
       "    .dataframe tbody tr th {\n",
       "        vertical-align: top;\n",
       "    }\n",
       "\n",
       "    .dataframe thead th {\n",
       "        text-align: right;\n",
       "    }\n",
       "</style>\n",
       "<table border=\"1\" class=\"dataframe\">\n",
       "  <thead>\n",
       "    <tr style=\"text-align: right;\">\n",
       "      <th></th>\n",
       "      <th>Episode_1: Seen</th>\n",
       "      <th>Episode_2: Seen</th>\n",
       "      <th>Episode_3: Seen</th>\n",
       "      <th>Episode_4: Seen</th>\n",
       "      <th>Episode_5: Seen</th>\n",
       "    </tr>\n",
       "  </thead>\n",
       "  <tbody>\n",
       "    <tr>\n",
       "      <th>0</th>\n",
       "      <td>True</td>\n",
       "      <td>True</td>\n",
       "      <td>True</td>\n",
       "      <td>True</td>\n",
       "      <td>True</td>\n",
       "    </tr>\n",
       "    <tr>\n",
       "      <th>1</th>\n",
       "      <td>False</td>\n",
       "      <td>False</td>\n",
       "      <td>False</td>\n",
       "      <td>False</td>\n",
       "      <td>False</td>\n",
       "    </tr>\n",
       "    <tr>\n",
       "      <th>2</th>\n",
       "      <td>True</td>\n",
       "      <td>True</td>\n",
       "      <td>True</td>\n",
       "      <td>False</td>\n",
       "      <td>False</td>\n",
       "    </tr>\n",
       "    <tr>\n",
       "      <th>3</th>\n",
       "      <td>True</td>\n",
       "      <td>True</td>\n",
       "      <td>True</td>\n",
       "      <td>True</td>\n",
       "      <td>True</td>\n",
       "    </tr>\n",
       "    <tr>\n",
       "      <th>4</th>\n",
       "      <td>True</td>\n",
       "      <td>True</td>\n",
       "      <td>True</td>\n",
       "      <td>True</td>\n",
       "      <td>True</td>\n",
       "    </tr>\n",
       "    <tr>\n",
       "      <th>...</th>\n",
       "      <td>...</td>\n",
       "      <td>...</td>\n",
       "      <td>...</td>\n",
       "      <td>...</td>\n",
       "      <td>...</td>\n",
       "    </tr>\n",
       "    <tr>\n",
       "      <th>1181</th>\n",
       "      <td>True</td>\n",
       "      <td>True</td>\n",
       "      <td>True</td>\n",
       "      <td>True</td>\n",
       "      <td>True</td>\n",
       "    </tr>\n",
       "    <tr>\n",
       "      <th>1182</th>\n",
       "      <td>True</td>\n",
       "      <td>True</td>\n",
       "      <td>True</td>\n",
       "      <td>True</td>\n",
       "      <td>True</td>\n",
       "    </tr>\n",
       "    <tr>\n",
       "      <th>1183</th>\n",
       "      <td>False</td>\n",
       "      <td>False</td>\n",
       "      <td>False</td>\n",
       "      <td>False</td>\n",
       "      <td>False</td>\n",
       "    </tr>\n",
       "    <tr>\n",
       "      <th>1184</th>\n",
       "      <td>True</td>\n",
       "      <td>True</td>\n",
       "      <td>True</td>\n",
       "      <td>True</td>\n",
       "      <td>True</td>\n",
       "    </tr>\n",
       "    <tr>\n",
       "      <th>1185</th>\n",
       "      <td>True</td>\n",
       "      <td>True</td>\n",
       "      <td>False</td>\n",
       "      <td>False</td>\n",
       "      <td>True</td>\n",
       "    </tr>\n",
       "  </tbody>\n",
       "</table>\n",
       "<p>1186 rows × 5 columns</p>\n",
       "</div>"
      ],
      "text/plain": [
       "      Episode_1: Seen  Episode_2: Seen  Episode_3: Seen  Episode_4: Seen  \\\n",
       "0                True             True             True             True   \n",
       "1               False            False            False            False   \n",
       "2                True             True             True            False   \n",
       "3                True             True             True             True   \n",
       "4                True             True             True             True   \n",
       "...               ...              ...              ...              ...   \n",
       "1181             True             True             True             True   \n",
       "1182             True             True             True             True   \n",
       "1183            False            False            False            False   \n",
       "1184             True             True             True             True   \n",
       "1185             True             True            False            False   \n",
       "\n",
       "      Episode_5: Seen  \n",
       "0                True  \n",
       "1               False  \n",
       "2               False  \n",
       "3                True  \n",
       "4                True  \n",
       "...               ...  \n",
       "1181             True  \n",
       "1182             True  \n",
       "1183            False  \n",
       "1184             True  \n",
       "1185             True  \n",
       "\n",
       "[1186 rows x 5 columns]"
      ]
     },
     "execution_count": 11,
     "metadata": {},
     "output_type": "execute_result"
    }
   ],
   "source": [
    "#renaming column names to something more intutive\n",
    "star_wars = star_wars.rename(columns={'Which of the following Star Wars films have you seen? Please select all that apply.' : 'Episode_1: Seen', \n",
    "                                      'Unnamed: 4' : 'Episode_2: Seen', \n",
    "                                      'Unnamed: 5' : 'Episode_3: Seen', \n",
    "                                      'Unnamed: 6' : 'Episode_4: Seen', \n",
    "                                      'Unnamed: 7' : 'Episode_5: Seen', \n",
    "                                      'Unnamed: 8' : 'Episode_6: Seen'})\n",
    "#mapping values\n",
    "ep_1_6_yn = {'Star Wars: Episode I  The Phantom Menace' : True, \n",
    "             'Star Wars: Episode II  Attack of the Clones' : True, \n",
    "             'Star Wars: Episode III  Revenge of the Sith' : True, \n",
    "             'Star Wars: Episode IV  A New Hope' : True, \n",
    "             'Star Wars: Episode V The Empire Strikes Back' : True, \n",
    "             'Star Wars: Episode VI Return of the Jedi' : True,   \n",
    "             np.NaN : False}\n",
    "\n",
    "star_wars['Episode_1: Seen'] = star_wars['Episode_1: Seen'].map(ep_1_6_yn)\n",
    "star_wars['Episode_2: Seen'] = star_wars['Episode_2: Seen'].map(ep_1_6_yn)\n",
    "star_wars['Episode_3: Seen'] = star_wars['Episode_3: Seen'].map(ep_1_6_yn)\n",
    "star_wars['Episode_4: Seen'] = star_wars['Episode_4: Seen'].map(ep_1_6_yn)\n",
    "star_wars['Episode_5: Seen'] = star_wars['Episode_5: Seen'].map(ep_1_6_yn)\n",
    "star_wars['Episode_6: Seen'] = star_wars['Episode_6: Seen'].map(ep_1_6_yn)\n",
    "\n",
    "star_wars.iloc[:,3:8]"
   ]
  },
  {
   "cell_type": "markdown",
   "id": "0290273b",
   "metadata": {},
   "source": [
    "## Cleaning the Ranking Columns"
   ]
  },
  {
   "cell_type": "code",
   "execution_count": 12,
   "id": "f1b4e160",
   "metadata": {},
   "outputs": [],
   "source": [
    "star_wars.rename(columns={'Please rank the Star Wars films in order of preference with 1 being your favorite film in the franchise and 6 being your least favorite film.' : 'Ranking Episode_1', \n",
    "                          'Unnamed: 10' : 'Ranking Episode_2',  \n",
    "                          'Unnamed: 11' : 'Ranking Episode_3', \n",
    "                          'Unnamed: 12' : 'Ranking Episode_4', \n",
    "                          'Unnamed: 13' : 'Ranking Episode_5', \n",
    "                          'Unnamed: 14' : 'Ranking Episode_6' }, inplace= True)\n",
    "\n",
    "#changing type\n",
    "star_wars[star_wars.columns[9:15]] = star_wars[star_wars.columns[9:15]].astype('float')"
   ]
  },
  {
   "cell_type": "code",
   "execution_count": 13,
   "id": "d09153d8",
   "metadata": {},
   "outputs": [
    {
     "data": {
      "text/html": [
       "<div>\n",
       "<style scoped>\n",
       "    .dataframe tbody tr th:only-of-type {\n",
       "        vertical-align: middle;\n",
       "    }\n",
       "\n",
       "    .dataframe tbody tr th {\n",
       "        vertical-align: top;\n",
       "    }\n",
       "\n",
       "    .dataframe thead th {\n",
       "        text-align: right;\n",
       "    }\n",
       "</style>\n",
       "<table border=\"1\" class=\"dataframe\">\n",
       "  <thead>\n",
       "    <tr style=\"text-align: right;\">\n",
       "      <th></th>\n",
       "      <th>Ranking Episode_1</th>\n",
       "      <th>Ranking Episode_2</th>\n",
       "      <th>Ranking Episode_3</th>\n",
       "      <th>Ranking Episode_4</th>\n",
       "      <th>Ranking Episode_5</th>\n",
       "      <th>Ranking Episode_6</th>\n",
       "    </tr>\n",
       "  </thead>\n",
       "  <tbody>\n",
       "    <tr>\n",
       "      <th>0</th>\n",
       "      <td>3.0</td>\n",
       "      <td>2.0</td>\n",
       "      <td>1.0</td>\n",
       "      <td>4.0</td>\n",
       "      <td>5.0</td>\n",
       "      <td>6.0</td>\n",
       "    </tr>\n",
       "    <tr>\n",
       "      <th>1</th>\n",
       "      <td>NaN</td>\n",
       "      <td>NaN</td>\n",
       "      <td>NaN</td>\n",
       "      <td>NaN</td>\n",
       "      <td>NaN</td>\n",
       "      <td>NaN</td>\n",
       "    </tr>\n",
       "    <tr>\n",
       "      <th>2</th>\n",
       "      <td>1.0</td>\n",
       "      <td>2.0</td>\n",
       "      <td>3.0</td>\n",
       "      <td>4.0</td>\n",
       "      <td>5.0</td>\n",
       "      <td>6.0</td>\n",
       "    </tr>\n",
       "    <tr>\n",
       "      <th>3</th>\n",
       "      <td>5.0</td>\n",
       "      <td>6.0</td>\n",
       "      <td>1.0</td>\n",
       "      <td>2.0</td>\n",
       "      <td>4.0</td>\n",
       "      <td>3.0</td>\n",
       "    </tr>\n",
       "    <tr>\n",
       "      <th>4</th>\n",
       "      <td>5.0</td>\n",
       "      <td>4.0</td>\n",
       "      <td>6.0</td>\n",
       "      <td>2.0</td>\n",
       "      <td>1.0</td>\n",
       "      <td>3.0</td>\n",
       "    </tr>\n",
       "    <tr>\n",
       "      <th>...</th>\n",
       "      <td>...</td>\n",
       "      <td>...</td>\n",
       "      <td>...</td>\n",
       "      <td>...</td>\n",
       "      <td>...</td>\n",
       "      <td>...</td>\n",
       "    </tr>\n",
       "    <tr>\n",
       "      <th>1181</th>\n",
       "      <td>5.0</td>\n",
       "      <td>4.0</td>\n",
       "      <td>6.0</td>\n",
       "      <td>3.0</td>\n",
       "      <td>2.0</td>\n",
       "      <td>1.0</td>\n",
       "    </tr>\n",
       "    <tr>\n",
       "      <th>1182</th>\n",
       "      <td>4.0</td>\n",
       "      <td>5.0</td>\n",
       "      <td>6.0</td>\n",
       "      <td>2.0</td>\n",
       "      <td>3.0</td>\n",
       "      <td>1.0</td>\n",
       "    </tr>\n",
       "    <tr>\n",
       "      <th>1183</th>\n",
       "      <td>NaN</td>\n",
       "      <td>NaN</td>\n",
       "      <td>NaN</td>\n",
       "      <td>NaN</td>\n",
       "      <td>NaN</td>\n",
       "      <td>NaN</td>\n",
       "    </tr>\n",
       "    <tr>\n",
       "      <th>1184</th>\n",
       "      <td>4.0</td>\n",
       "      <td>3.0</td>\n",
       "      <td>6.0</td>\n",
       "      <td>5.0</td>\n",
       "      <td>2.0</td>\n",
       "      <td>1.0</td>\n",
       "    </tr>\n",
       "    <tr>\n",
       "      <th>1185</th>\n",
       "      <td>6.0</td>\n",
       "      <td>1.0</td>\n",
       "      <td>2.0</td>\n",
       "      <td>3.0</td>\n",
       "      <td>4.0</td>\n",
       "      <td>5.0</td>\n",
       "    </tr>\n",
       "  </tbody>\n",
       "</table>\n",
       "<p>1186 rows × 6 columns</p>\n",
       "</div>"
      ],
      "text/plain": [
       "      Ranking Episode_1  Ranking Episode_2  Ranking Episode_3  \\\n",
       "0                   3.0                2.0                1.0   \n",
       "1                   NaN                NaN                NaN   \n",
       "2                   1.0                2.0                3.0   \n",
       "3                   5.0                6.0                1.0   \n",
       "4                   5.0                4.0                6.0   \n",
       "...                 ...                ...                ...   \n",
       "1181                5.0                4.0                6.0   \n",
       "1182                4.0                5.0                6.0   \n",
       "1183                NaN                NaN                NaN   \n",
       "1184                4.0                3.0                6.0   \n",
       "1185                6.0                1.0                2.0   \n",
       "\n",
       "      Ranking Episode_4  Ranking Episode_5  Ranking Episode_6  \n",
       "0                   4.0                5.0                6.0  \n",
       "1                   NaN                NaN                NaN  \n",
       "2                   4.0                5.0                6.0  \n",
       "3                   2.0                4.0                3.0  \n",
       "4                   2.0                1.0                3.0  \n",
       "...                 ...                ...                ...  \n",
       "1181                3.0                2.0                1.0  \n",
       "1182                2.0                3.0                1.0  \n",
       "1183                NaN                NaN                NaN  \n",
       "1184                5.0                2.0                1.0  \n",
       "1185                3.0                4.0                5.0  \n",
       "\n",
       "[1186 rows x 6 columns]"
      ]
     },
     "execution_count": 13,
     "metadata": {},
     "output_type": "execute_result"
    }
   ],
   "source": [
    "star_wars.iloc[:,9:15]"
   ]
  },
  {
   "cell_type": "markdown",
   "id": "a73950df",
   "metadata": {},
   "source": [
    "## Finding Highest Ranked Movie"
   ]
  },
  {
   "cell_type": "code",
   "execution_count": 14,
   "id": "a96ac9ca",
   "metadata": {},
   "outputs": [],
   "source": [
    "sns.set_style('white')"
   ]
  },
  {
   "cell_type": "code",
   "execution_count": 15,
   "id": "ac238994",
   "metadata": {},
   "outputs": [
    {
     "data": {
      "text/plain": [
       "Ranking Episode_1    3.732934\n",
       "Ranking Episode_2    4.087321\n",
       "Ranking Episode_3    4.341317\n",
       "Ranking Episode_4    3.272727\n",
       "Ranking Episode_5    2.513158\n",
       "Ranking Episode_6    3.047847\n",
       "dtype: float64"
      ]
     },
     "execution_count": 15,
     "metadata": {},
     "output_type": "execute_result"
    }
   ],
   "source": [
    "star_wars_mean = star_wars[star_wars.columns[9:15]].mean()\n",
    "star_wars_mean"
   ]
  },
  {
   "cell_type": "code",
   "execution_count": 16,
   "id": "d799c20d",
   "metadata": {},
   "outputs": [
    {
     "data": {
      "image/png": "[encoded data removed]",
      "text/plain": [
       "<Figure size 576x360 with 1 Axes>"
      ]
     },
     "metadata": {},
     "output_type": "display_data"
    }
   ],
   "source": [
    "fig, ax = plt.subplots(figsize= (8,5))\n",
    "bar_viz = plt.bar(range(6), star_wars_mean, color= ['#264653','#2a9d8f','#e9c46a','#f4a261','#e76f51','#d9ed92'])\n",
    "\n",
    "for location in ['left', 'right', 'top', 'bottom']:\n",
    "    ax.spines[location].set_visible(False) #Removing boundaries\n",
    "\n",
    "labelx = [item.get_text() for item in ax.get_xticklabels()]\n",
    "labelx[1] = 'Episode 1'\n",
    "labelx[2] = 'Episode 2'\n",
    "labelx[3] = 'Episode 3'\n",
    "labelx[4] = 'Episode 4'\n",
    "labelx[5] = 'Episode 5'\n",
    "labelx[6] = 'Episode 6'\n",
    "ax.set_xticklabels(labelx, rotation = 45)\n",
    "ax.tick_params(axis = 'x', color='#ced4da')\n",
    "ax.set_yticks([]) #removed yticks\n",
    "ax.text(-0.69, 4.65, 'Star Wars Highly Ranked Movies', size=26, weight='bold') #add title\n",
    "\n",
    "plt.show()"
   ]
  },
  {
   "cell_type": "markdown",
   "id": "dffd7812",
   "metadata": {},
   "source": [
    "## Finding the Most Viewed Movie"
   ]
  },
  {
   "cell_type": "code",
   "execution_count": 17,
   "id": "62906871",
   "metadata": {},
   "outputs": [
    {
     "data": {
      "text/plain": [
       "Episode_1: Seen    673\n",
       "Episode_2: Seen    571\n",
       "Episode_3: Seen    550\n",
       "Episode_4: Seen    607\n",
       "Episode_5: Seen    758\n",
       "Episode_6: Seen    738\n",
       "dtype: int64"
      ]
     },
     "execution_count": 17,
     "metadata": {},
     "output_type": "execute_result"
    }
   ],
   "source": [
    "most_viewed = star_wars.iloc[:,3:9].sum()\n",
    "most_viewed"
   ]
  },
  {
   "cell_type": "code",
   "execution_count": 18,
   "id": "f1265235",
   "metadata": {},
   "outputs": [
    {
     "data": {
      "image/png": "[encoded data removed]",
      "text/plain": [
       "<Figure size 576x360 with 1 Axes>"
      ]
     },
     "metadata": {},
     "output_type": "display_data"
    }
   ],
   "source": [
    "fig, ax = plt.subplots(figsize= (8,5))\n",
    "bar_viz = plt.bar(range(6), most_viewed, color= ['#8ecae6','#219ebc','#023047','#ffb703','#fb8500', '#006d77'])\n",
    "\n",
    "for location in ['left', 'right', 'top', 'bottom']:\n",
    "    ax.spines[location].set_visible(False) #Removing boundaries\n",
    "\n",
    "labelx = [item.get_text() for item in ax.get_xticklabels()]\n",
    "labelx[1] = 'Episode 1'\n",
    "labelx[2] = 'Episode 2'\n",
    "labelx[3] = 'Episode 3'\n",
    "labelx[4] = 'Episode 4'\n",
    "labelx[5] = 'Episode 5'\n",
    "labelx[6] = 'Episode 6'\n",
    "ax.set_xticklabels(labelx, rotation = 45)\n",
    "ax.tick_params(axis = 'x', color='#ced4da')\n",
    "ax.set_yticks([]) #removed yticks\n",
    "#ax.text(-0.4, 4.65, 'Star Wars Most Viewed Movies', size=26, weight='bold') #add title\n",
    "plt.title('Star Wars Most Viewed Movies', loc= 'left', weight= 'bold', fontsize= 26)\n",
    "\n",
    "plt.show()"
   ]
  },
  {
   "cell_type": "markdown",
   "id": "4a091b39",
   "metadata": {},
   "source": [
    "## Exploring the Data by Binary Segments"
   ]
  },
  {
   "cell_type": "code",
   "execution_count": 19,
   "id": "9cb6b32d",
   "metadata": {},
   "outputs": [],
   "source": [
    "#most viewed\n",
    "males = star_wars[star_wars['Gender'] == 'Male'] \n",
    "male_fans = males[males.columns[3:9]].sum()\n",
    "females = star_wars[star_wars['Gender'] == 'Female']\n",
    "female_fans = females[females.columns[3:9]].sum()\n",
    "#ranking\n",
    "male_fans_rank = males[males.columns[9:15]].mean() \n",
    "female_fans_rank = females[females.columns[9:15]].mean()"
   ]
  },
  {
   "cell_type": "code",
   "execution_count": 20,
   "id": "b67f3fdc",
   "metadata": {},
   "outputs": [
    {
     "data": {
      "image/png": "[encoded data removed]",
      "text/plain": [
       "<Figure size 864x331.2 with 2 Axes>"
      ]
     },
     "metadata": {},
     "output_type": "display_data"
    }
   ],
   "source": [
    "fig, axes = plt.subplots(1,2, figsize=(12,4.6))\n",
    "fig.suptitle('Star Wars Movies Rankings Based on Gender', fontsize= 14, weight='bold')\n",
    "\n",
    "x1 = ['Episode 1', 'Episode 2', 'Episode 3', 'Episode 4', 'Episode 5', 'Episode 6']\n",
    "\n",
    "#Male Fans Rankings\n",
    "mr = sns.barplot(ax=axes[0], x=x1, y=male_fans_rank.values)\n",
    "axes[0].set_title('Male Highly Ranked', fontsize= 12)\n",
    "_ = mr.set(ylabel=\"Fans\")\n",
    "\n",
    "#Female Fans Rankings\n",
    "fr = sns.barplot(ax=axes[1], x=x1, y=female_fans_rank.values)\n",
    "axes[1].set_title('Female Highly Ranked', fontsize= 12)\n",
    "_ = fr.set(ylabel=\"Fans\")\n",
    "\n",
    "for l in ['left', 'right', 'top', 'bottom']:\n",
    "    axes[0].spines[l].set_visible(False)\n",
    "    axes[1].spines[l].set_visible(False)\n",
    "    \n",
    "axes[0].set_yticks([])\n",
    "axes[1].set_yticks([])\n",
    "\n",
    "plt.show()"
   ]
  },
  {
   "cell_type": "code",
   "execution_count": 21,
   "id": "11abfec3",
   "metadata": {},
   "outputs": [
    {
     "data": {
      "image/png": "[encoded data removed]",
      "text/plain": [
       "<Figure size 864x331.2 with 2 Axes>"
      ]
     },
     "metadata": {},
     "output_type": "display_data"
    }
   ],
   "source": [
    "fig, axes = plt.subplots(1,2, figsize=(12, 4.6))\n",
    "fig.suptitle('Star Wars Movies Views Based on Gender', fontsize= 14, weight='bold', )\n",
    "\n",
    "x1 = ['Episode 1', 'Episode 2', 'Episode 3', 'Episode 4', 'Episode 5', 'Episode 6']\n",
    "\n",
    "#Male Fans Most Watched\n",
    "mw = sns.barplot(ax=axes[0],x=x1, y=male_fans)\n",
    "axes[0].set_title('Male Most Watched', fontsize= 12)\n",
    "_ = mw.set(ylabel=\"Fans\")\n",
    "\n",
    "#female Fans Most Watched\n",
    "fw = sns.barplot(ax=axes[1],x=x1, y=female_fans)\n",
    "axes[1].set_title('Female Most Watched', fontsize= 12)\n",
    "_ = fw.set(ylabel=\"Fans\")\n",
    "\n",
    "for l in ['left', 'right', 'top', 'bottom']:\n",
    "    axes[0].spines[l].set_visible(False)\n",
    "    axes[1].spines[l].set_visible(False)\n",
    "    \n",
    "plt.show()"
   ]
  },
  {
   "cell_type": "code",
   "execution_count": 22,
   "id": "6d18b498",
   "metadata": {},
   "outputs": [
    {
     "name": "stdout",
     "output_type": "stream",
     "text": [
      "Total Number of fans: 552\n"
     ]
    }
   ],
   "source": [
    "fans = star_wars[star_wars['Do you consider yourself to be a fan of the Star Wars film franchise?'] == True]\n",
    "print(('Total Number of fans: {}'.format(fans.shape[0])))"
   ]
  },
  {
   "cell_type": "markdown",
   "id": "a6a9c65d",
   "metadata": {},
   "source": [
    "## Exploring Ages of Fans"
   ]
  },
  {
   "cell_type": "code",
   "execution_count": 23,
   "id": "3f86fcba",
   "metadata": {},
   "outputs": [
    {
     "data": {
      "image/png": "[encoded data removed]",
      "text/plain": [
       "<Figure size 432x288 with 1 Axes>"
      ]
     },
     "metadata": {},
     "output_type": "display_data"
    }
   ],
   "source": [
    "fig, ax = plt.subplots()\n",
    "\n",
    "fans['Age'].value_counts().plot.bar(color= 'seagreen', rot=0)\n",
    "plt.title('Star Wars Fans Age Range', fontsize= 17.5, weight= 'bold')\n",
    "plt.xlabel('Age of Fans', fontsize= 12)\n",
    "\n",
    "location = ['left', 'right', 'top', 'bottom']\n",
    "\n",
    "for l in location:\n",
    "    ax.spines[l].set_visible(False)\n",
    "\n",
    "plt.show()"
   ]
  },
  {
   "cell_type": "markdown",
   "id": "dfbad984",
   "metadata": {},
   "source": [
    "    Fans of middle & above ages exceeds as compared to youngsters"
   ]
  },
  {
   "cell_type": "code",
   "execution_count": 24,
   "id": "0cd85169",
   "metadata": {},
   "outputs": [
    {
     "data": {
      "image/png": "[encoded data removed]",
      "text/plain": [
       "<Figure size 432x288 with 1 Axes>"
      ]
     },
     "metadata": {},
     "output_type": "display_data"
    }
   ],
   "source": [
    "fig, ax = plt.subplots()\n",
    "\n",
    "fans['Education'].value_counts().plot.barh(color= '#af0b1e', rot=0)\n",
    "plt.title('Star Wars Fans Knowledge Level', fontsize= 17.5, weight= 'bold')\n",
    "\n",
    "location = ['left', 'right', 'top', 'bottom']\n",
    "\n",
    "for l in location:\n",
    "    ax.spines[l].set_visible(False)\n",
    "\n",
    "plt.show()"
   ]
  },
  {
   "cell_type": "code",
   "execution_count": 25,
   "id": "09cd03b6",
   "metadata": {},
   "outputs": [
    {
     "data": {
      "image/png": "[encoded data removed]",
      "text/plain": [
       "<Figure size 432x288 with 1 Axes>"
      ]
     },
     "metadata": {},
     "output_type": "display_data"
    }
   ],
   "source": [
    "fig, ax = plt.subplots()\n",
    "\n",
    "fans['Household Income'].value_counts().plot.barh(color= '#577590', rot=0)\n",
    "plt.title('Star Wars Fans Income per Annum', fontsize= 17.5, weight= 'bold')\n",
    "\n",
    "location = ['left', 'right', 'top', 'bottom']\n",
    "\n",
    "for l in location:\n",
    "    ax.spines[l].set_visible(False)\n",
    "\n",
    "plt.show()"
   ]
  },
  {
   "cell_type": "markdown",
   "id": "03d34944",
   "metadata": {},
   "source": [
    "## Exploration of Regional Data"
   ]
  },
  {
   "cell_type": "code",
   "execution_count": 26,
   "id": "8ec929aa",
   "metadata": {},
   "outputs": [
    {
     "data": {
      "text/plain": [
       "South Atlantic        88\n",
       "Pacific               86\n",
       "East North Central    84\n",
       "Middle Atlantic       64\n",
       "West South Central    53\n",
       "West North Central    53\n",
       "Mountain              49\n",
       "New England           44\n",
       "East South Central    20\n",
       "NaN                   11\n",
       "Name: Location (Census Region), dtype: int64"
      ]
     },
     "execution_count": 26,
     "metadata": {},
     "output_type": "execute_result"
    }
   ],
   "source": [
    "fans['Location (Census Region)'].value_counts(dropna = False)"
   ]
  },
  {
   "cell_type": "markdown",
   "id": "7f529a47",
   "metadata": {},
   "source": [
    "    Getting rid of null values"
   ]
  },
  {
   "cell_type": "code",
   "execution_count": 27,
   "id": "de7f1167",
   "metadata": {},
   "outputs": [
    {
     "data": {
      "text/plain": [
       "South Atlantic        88\n",
       "Pacific               86\n",
       "East North Central    84\n",
       "Middle Atlantic       64\n",
       "West South Central    53\n",
       "West North Central    53\n",
       "Mountain              49\n",
       "New England           44\n",
       "East South Central    20\n",
       "Name: Location (Census Region), dtype: int64"
      ]
     },
     "execution_count": 27,
     "metadata": {},
     "output_type": "execute_result"
    }
   ],
   "source": [
    "fans = fans[fans[\"Location (Census Region)\"].notnull()]\n",
    "fans[\"Location (Census Region)\"].value_counts(dropna=False)"
   ]
  },
  {
   "cell_type": "code",
   "execution_count": 41,
   "id": "2f992431",
   "metadata": {},
   "outputs": [
    {
     "data": {
      "application/vnd.plotly.v1+json": {
       "config": {
        "plotlyServerURL": "https://plot.ly"
       },
       "data": [
        {
         "colorbar": {
          "title": {
           "text": "Fans per state"
          }
         },
         "locationmode": "USA-states",
         "locations": [
          "DE",
          "MD",
          "VA",
          "WV",
          "NC",
          "SC",
          "GA",
          "FL",
          "DC",
          "AK",
          "CA",
          "HI",
          "OR",
          "WA",
          "IL",
          "IN",
          "MI",
          "OH",
          "WI",
          "NJ",
          "NY",
          "PA",
          "AR",
          "LA",
          "OK",
          "TX",
          "IA",
          "KS",
          "MN",
          "MO",
          "NE",
          "ND",
          "SD",
          "AZ",
          "CO",
          "ID",
          "MT",
          "NV",
          "NM",
          "UT",
          "WY",
          "ME",
          "VT",
          "NH",
          "MA",
          "CT",
          "RI",
          "AL",
          "KY",
          "MS",
          "TN"
         ],
         "type": "choropleth",
         "z": [
          10,
          10,
          10,
          10,
          10,
          10,
          10,
          10,
          10,
          17,
          17,
          17,
          17,
          17,
          17,
          17,
          17,
          17,
          17,
          21,
          21,
          21,
          13,
          13,
          13,
          13,
          8,
          8,
          8,
          8,
          8,
          8,
          8,
          6,
          6,
          6,
          6,
          6,
          6,
          6,
          6,
          7,
          7,
          7,
          7,
          7,
          7,
          5,
          5,
          5,
          5
         ]
        }
       ],
       "layout": {
        "geo": {
         "scope": "usa"
        },
        "template": {
         "data": {
          "bar": [
           {
            "error_x": {
             "color": "#2a3f5f"
            },
            "error_y": {
             "color": "#2a3f5f"
            },
            "marker": {
             "line": {
              "color": "#E5ECF6",
              "width": 0.5
             },
             "pattern": {
              "fillmode": "overlay",
              "size": 10,
              "solidity": 0.2
             }
            },
            "type": "bar"
           }
          ],
          "barpolar": [
           {
            "marker": {
             "line": {
              "color": "#E5ECF6",
              "width": 0.5
             },
             "pattern": {
              "fillmode": "overlay",
              "size": 10,
              "solidity": 0.2
             }
            },
            "type": "barpolar"
           }
          ],
          "carpet": [
           {
            "aaxis": {
             "endlinecolor": "#2a3f5f",
             "gridcolor": "white",
             "linecolor": "white",
             "minorgridcolor": "white",
             "startlinecolor": "#2a3f5f"
            },
            "baxis": {
             "endlinecolor": "#2a3f5f",
             "gridcolor": "white",
             "linecolor": "white",
             "minorgridcolor": "white",
             "startlinecolor": "#2a3f5f"
            },
            "type": "carpet"
           }
          ],
          "choropleth": [
           {
            "colorbar": {
             "outlinewidth": 0,
             "ticks": ""
            },
            "type": "choropleth"
           }
          ],
          "contour": [
           {
            "colorbar": {
             "outlinewidth": 0,
             "ticks": ""
            },
            "colorscale": [
             [
              0,
              "#0d0887"
             ],
             [
              0.1111111111111111,
              "#46039f"
             ],
             [
              0.2222222222222222,
              "#7201a8"
             ],
             [
              0.3333333333333333,
              "#9c179e"
             ],
             [
              0.4444444444444444,
              "#bd3786"
             ],
             [
              0.5555555555555556,
              "#d8576b"
             ],
             [
              0.6666666666666666,
              "#ed7953"
             ],
             [
              0.7777777777777778,
              "#fb9f3a"
             ],
             [
              0.8888888888888888,
              "#fdca26"
             ],
             [
              1,
              "#f0f921"
             ]
            ],
            "type": "contour"
           }
          ],
          "contourcarpet": [
           {
            "colorbar": {
             "outlinewidth": 0,
             "ticks": ""
            },
            "type": "contourcarpet"
           }
          ],
          "heatmap": [
           {
            "colorbar": {
             "outlinewidth": 0,
             "ticks": ""
            },
            "colorscale": [
             [
              0,
              "#0d0887"
             ],
             [
              0.1111111111111111,
              "#46039f"
             ],
             [
              0.2222222222222222,
              "#7201a8"
             ],
             [
              0.3333333333333333,
              "#9c179e"
             ],
             [
              0.4444444444444444,
              "#bd3786"
             ],
             [
              0.5555555555555556,
              "#d8576b"
             ],
             [
              0.6666666666666666,
              "#ed7953"
             ],
             [
              0.7777777777777778,
              "#fb9f3a"
             ],
             [
              0.8888888888888888,
              "#fdca26"
             ],
             [
              1,
              "#f0f921"
             ]
            ],
            "type": "heatmap"
           }
          ],
          "heatmapgl": [
           {
            "colorbar": {
             "outlinewidth": 0,
             "ticks": ""
            },
            "colorscale": [
             [
              0,
              "#0d0887"
             ],
             [
              0.1111111111111111,
              "#46039f"
             ],
             [
              0.2222222222222222,
              "#7201a8"
             ],
             [
              0.3333333333333333,
              "#9c179e"
             ],
             [
              0.4444444444444444,
              "#bd3786"
             ],
             [
              0.5555555555555556,
              "#d8576b"
             ],
             [
              0.6666666666666666,
              "#ed7953"
             ],
             [
              0.7777777777777778,
              "#fb9f3a"
             ],
             [
              0.8888888888888888,
              "#fdca26"
             ],
             [
              1,
              "#f0f921"
             ]
            ],
            "type": "heatmapgl"
           }
          ],
          "histogram": [
           {
            "marker": {
             "pattern": {
              "fillmode": "overlay",
              "size": 10,
              "solidity": 0.2
             }
            },
            "type": "histogram"
           }
          ],
          "histogram2d": [
           {
            "colorbar": {
             "outlinewidth": 0,
             "ticks": ""
            },
            "colorscale": [
             [
              0,
              "#0d0887"
             ],
             [
              0.1111111111111111,
              "#46039f"
             ],
             [
              0.2222222222222222,
              "#7201a8"
             ],
             [
              0.3333333333333333,
              "#9c179e"
             ],
             [
              0.4444444444444444,
              "#bd3786"
             ],
             [
              0.5555555555555556,
              "#d8576b"
             ],
             [
              0.6666666666666666,
              "#ed7953"
             ],
             [
              0.7777777777777778,
              "#fb9f3a"
             ],
             [
              0.8888888888888888,
              "#fdca26"
             ],
             [
              1,
              "#f0f921"
             ]
            ],
            "type": "histogram2d"
           }
          ],
          "histogram2dcontour": [
           {
            "colorbar": {
             "outlinewidth": 0,
             "ticks": ""
            },
            "colorscale": [
             [
              0,
              "#0d0887"
             ],
             [
              0.1111111111111111,
              "#46039f"
             ],
             [
              0.2222222222222222,
              "#7201a8"
             ],
             [
              0.3333333333333333,
              "#9c179e"
             ],
             [
              0.4444444444444444,
              "#bd3786"
             ],
             [
              0.5555555555555556,
              "#d8576b"
             ],
             [
              0.6666666666666666,
              "#ed7953"
             ],
             [
              0.7777777777777778,
              "#fb9f3a"
             ],
             [
              0.8888888888888888,
              "#fdca26"
             ],
             [
              1,
              "#f0f921"
             ]
            ],
            "type": "histogram2dcontour"
           }
          ],
          "mesh3d": [
           {
            "colorbar": {
             "outlinewidth": 0,
             "ticks": ""
            },
            "type": "mesh3d"
           }
          ],
          "parcoords": [
           {
            "line": {
             "colorbar": {
              "outlinewidth": 0,
              "ticks": ""
             }
            },
            "type": "parcoords"
           }
          ],
          "pie": [
           {
            "automargin": true,
            "type": "pie"
           }
          ],
          "scatter": [
           {
            "marker": {
             "colorbar": {
              "outlinewidth": 0,
              "ticks": ""
             }
            },
            "type": "scatter"
           }
          ],
          "scatter3d": [
           {
            "line": {
             "colorbar": {
              "outlinewidth": 0,
              "ticks": ""
             }
            },
            "marker": {
             "colorbar": {
              "outlinewidth": 0,
              "ticks": ""
             }
            },
            "type": "scatter3d"
           }
          ],
          "scattercarpet": [
           {
            "marker": {
             "colorbar": {
              "outlinewidth": 0,
              "ticks": ""
             }
            },
            "type": "scattercarpet"
           }
          ],
          "scattergeo": [
           {
            "marker": {
             "colorbar": {
              "outlinewidth": 0,
              "ticks": ""
             }
            },
            "type": "scattergeo"
           }
          ],
          "scattergl": [
           {
            "marker": {
             "colorbar": {
              "outlinewidth": 0,
              "ticks": ""
             }
            },
            "type": "scattergl"
           }
          ],
          "scattermapbox": [
           {
            "marker": {
             "colorbar": {
              "outlinewidth": 0,
              "ticks": ""
             }
            },
            "type": "scattermapbox"
           }
          ],
          "scatterpolar": [
           {
            "marker": {
             "colorbar": {
              "outlinewidth": 0,
              "ticks": ""
             }
            },
            "type": "scatterpolar"
           }
          ],
          "scatterpolargl": [
           {
            "marker": {
             "colorbar": {
              "outlinewidth": 0,
              "ticks": ""
             }
            },
            "type": "scatterpolargl"
           }
          ],
          "scatterternary": [
           {
            "marker": {
             "colorbar": {
              "outlinewidth": 0,
              "ticks": ""
             }
            },
            "type": "scatterternary"
           }
          ],
          "surface": [
           {
            "colorbar": {
             "outlinewidth": 0,
             "ticks": ""
            },
            "colorscale": [
             [
              0,
              "#0d0887"
             ],
             [
              0.1111111111111111,
              "#46039f"
             ],
             [
              0.2222222222222222,
              "#7201a8"
             ],
             [
              0.3333333333333333,
              "#9c179e"
             ],
             [
              0.4444444444444444,
              "#bd3786"
             ],
             [
              0.5555555555555556,
              "#d8576b"
             ],
             [
              0.6666666666666666,
              "#ed7953"
             ],
             [
              0.7777777777777778,
              "#fb9f3a"
             ],
             [
              0.8888888888888888,
              "#fdca26"
             ],
             [
              1,
              "#f0f921"
             ]
            ],
            "type": "surface"
           }
          ],
          "table": [
           {
            "cells": {
             "fill": {
              "color": "#EBF0F8"
             },
             "line": {
              "color": "white"
             }
            },
            "header": {
             "fill": {
              "color": "#C8D4E3"
             },
             "line": {
              "color": "white"
             }
            },
            "type": "table"
           }
          ]
         },
         "layout": {
          "annotationdefaults": {
           "arrowcolor": "#2a3f5f",
           "arrowhead": 0,
           "arrowwidth": 1
          },
          "autotypenumbers": "strict",
          "coloraxis": {
           "colorbar": {
            "outlinewidth": 0,
            "ticks": ""
           }
          },
          "colorscale": {
           "diverging": [
            [
             0,
             "#8e0152"
            ],
            [
             0.1,
             "#c51b7d"
            ],
            [
             0.2,
             "#de77ae"
            ],
            [
             0.3,
             "#f1b6da"
            ],
            [
             0.4,
             "#fde0ef"
            ],
            [
             0.5,
             "#f7f7f7"
            ],
            [
             0.6,
             "#e6f5d0"
            ],
            [
             0.7,
             "#b8e186"
            ],
            [
             0.8,
             "#7fbc41"
            ],
            [
             0.9,
             "#4d9221"
            ],
            [
             1,
             "#276419"
            ]
           ],
           "sequential": [
            [
             0,
             "#0d0887"
            ],
            [
             0.1111111111111111,
             "#46039f"
            ],
            [
             0.2222222222222222,
             "#7201a8"
            ],
            [
             0.3333333333333333,
             "#9c179e"
            ],
            [
             0.4444444444444444,
             "#bd3786"
            ],
            [
             0.5555555555555556,
             "#d8576b"
            ],
            [
             0.6666666666666666,
             "#ed7953"
            ],
            [
             0.7777777777777778,
             "#fb9f3a"
            ],
            [
             0.8888888888888888,
             "#fdca26"
            ],
            [
             1,
             "#f0f921"
            ]
           ],
           "sequentialminus": [
            [
             0,
             "#0d0887"
            ],
            [
             0.1111111111111111,
             "#46039f"
            ],
            [
             0.2222222222222222,
             "#7201a8"
            ],
            [
             0.3333333333333333,
             "#9c179e"
            ],
            [
             0.4444444444444444,
             "#bd3786"
            ],
            [
             0.5555555555555556,
             "#d8576b"
            ],
            [
             0.6666666666666666,
             "#ed7953"
            ],
            [
             0.7777777777777778,
             "#fb9f3a"
            ],
            [
             0.8888888888888888,
             "#fdca26"
            ],
            [
             1,
             "#f0f921"
            ]
           ]
          },
          "colorway": [
           "#636efa",
           "#EF553B",
           "#00cc96",
           "#ab63fa",
           "#FFA15A",
           "#19d3f3",
           "#FF6692",
           "#B6E880",
           "#FF97FF",
           "#FECB52"
          ],
          "font": {
           "color": "#2a3f5f"
          },
          "geo": {
           "bgcolor": "white",
           "lakecolor": "white",
           "landcolor": "#E5ECF6",
           "showlakes": true,
           "showland": true,
           "subunitcolor": "white"
          },
          "hoverlabel": {
           "align": "left"
          },
          "hovermode": "closest",
          "mapbox": {
           "style": "light"
          },
          "paper_bgcolor": "white",
          "plot_bgcolor": "#E5ECF6",
          "polar": {
           "angularaxis": {
            "gridcolor": "white",
            "linecolor": "white",
            "ticks": ""
           },
           "bgcolor": "#E5ECF6",
           "radialaxis": {
            "gridcolor": "white",
            "linecolor": "white",
            "ticks": ""
           }
          },
          "scene": {
           "xaxis": {
            "backgroundcolor": "#E5ECF6",
            "gridcolor": "white",
            "gridwidth": 2,
            "linecolor": "white",
            "showbackground": true,
            "ticks": "",
            "zerolinecolor": "white"
           },
           "yaxis": {
            "backgroundcolor": "#E5ECF6",
            "gridcolor": "white",
            "gridwidth": 2,
            "linecolor": "white",
            "showbackground": true,
            "ticks": "",
            "zerolinecolor": "white"
           },
           "zaxis": {
            "backgroundcolor": "#E5ECF6",
            "gridcolor": "white",
            "gridwidth": 2,
            "linecolor": "white",
            "showbackground": true,
            "ticks": "",
            "zerolinecolor": "white"
           }
          },
          "shapedefaults": {
           "line": {
            "color": "#2a3f5f"
           }
          },
          "ternary": {
           "aaxis": {
            "gridcolor": "white",
            "linecolor": "white",
            "ticks": ""
           },
           "baxis": {
            "gridcolor": "white",
            "linecolor": "white",
            "ticks": ""
           },
           "bgcolor": "#E5ECF6",
           "caxis": {
            "gridcolor": "white",
            "linecolor": "white",
            "ticks": ""
           }
          },
          "title": {
           "x": 0.05
          },
          "xaxis": {
           "automargin": true,
           "gridcolor": "white",
           "linecolor": "white",
           "ticks": "",
           "title": {
            "standoff": 15
           },
           "zerolinecolor": "white",
           "zerolinewidth": 2
          },
          "yaxis": {
           "automargin": true,
           "gridcolor": "white",
           "linecolor": "white",
           "ticks": "",
           "title": {
            "standoff": 15
           },
           "zerolinecolor": "white",
           "zerolinewidth": 2
          }
         }
        },
        "title": {
         "text": "Distribution of Star Wars Fans by States on Average"
        }
       }
      },
      "text/html": [
       "<div>                            <div id=\"27e4abe3-7871-42a0-ab65-f8408461dc30\" class=\"plotly-graph-div\" style=\"height:525px; width:100%;\"></div>            <script type=\"text/javascript\">                require([\"plotly\"], function(Plotly) {                    window.PLOTLYENV=window.PLOTLYENV || {};                                    if (document.getElementById(\"27e4abe3-7871-42a0-ab65-f8408461dc30\")) {                    Plotly.newPlot(                        \"27e4abe3-7871-42a0-ab65-f8408461dc30\",                        [{\"colorbar\":{\"title\":{\"text\":\"Fans per state\"}},\"locationmode\":\"USA-states\",\"locations\":[\"DE\",\"MD\",\"VA\",\"WV\",\"NC\",\"SC\",\"GA\",\"FL\",\"DC\",\"AK\",\"CA\",\"HI\",\"OR\",\"WA\",\"IL\",\"IN\",\"MI\",\"OH\",\"WI\",\"NJ\",\"NY\",\"PA\",\"AR\",\"LA\",\"OK\",\"TX\",\"IA\",\"KS\",\"MN\",\"MO\",\"NE\",\"ND\",\"SD\",\"AZ\",\"CO\",\"ID\",\"MT\",\"NV\",\"NM\",\"UT\",\"WY\",\"ME\",\"VT\",\"NH\",\"MA\",\"CT\",\"RI\",\"AL\",\"KY\",\"MS\",\"TN\"],\"z\":[10,10,10,10,10,10,10,10,10,17,17,17,17,17,17,17,17,17,17,21,21,21,13,13,13,13,8,8,8,8,8,8,8,6,6,6,6,6,6,6,6,7,7,7,7,7,7,5,5,5,5],\"type\":\"choropleth\"}],                        {\"template\":{\"data\":{\"bar\":[{\"error_x\":{\"color\":\"#2a3f5f\"},\"error_y\":{\"color\":\"#2a3f5f\"},\"marker\":{\"line\":{\"color\":\"#E5ECF6\",\"width\":0.5},\"pattern\":{\"fillmode\":\"overlay\",\"size\":10,\"solidity\":0.2}},\"type\":\"bar\"}],\"barpolar\":[{\"marker\":{\"line\":{\"color\":\"#E5ECF6\",\"width\":0.5},\"pattern\":{\"fillmode\":\"overlay\",\"size\":10,\"solidity\":0.2}},\"type\":\"barpolar\"}],\"carpet\":[{\"aaxis\":{\"endlinecolor\":\"#2a3f5f\",\"gridcolor\":\"white\",\"linecolor\":\"white\",\"minorgridcolor\":\"white\",\"startlinecolor\":\"#2a3f5f\"},\"baxis\":{\"endlinecolor\":\"#2a3f5f\",\"gridcolor\":\"white\",\"linecolor\":\"white\",\"minorgridcolor\":\"white\",\"startlinecolor\":\"#2a3f5f\"},\"type\":\"carpet\"}],\"choropleth\":[{\"colorbar\":{\"outlinewidth\":0,\"ticks\":\"\"},\"type\":\"choropleth\"}],\"contour\":[{\"colorbar\":{\"outlinewidth\":0,\"ticks\":\"\"},\"colorscale\":[[0.0,\"#0d0887\"],[0.1111111111111111,\"#46039f\"],[0.2222222222222222,\"#7201a8\"],[0.3333333333333333,\"#9c179e\"],[0.4444444444444444,\"#bd3786\"],[0.5555555555555556,\"#d8576b\"],[0.6666666666666666,\"#ed7953\"],[0.7777777777777778,\"#fb9f3a\"],[0.8888888888888888,\"#fdca26\"],[1.0,\"#f0f921\"]],\"type\":\"contour\"}],\"contourcarpet\":[{\"colorbar\":{\"outlinewidth\":0,\"ticks\":\"\"},\"type\":\"contourcarpet\"}],\"heatmap\":[{\"colorbar\":{\"outlinewidth\":0,\"ticks\":\"\"},\"colorscale\":[[0.0,\"#0d0887\"],[0.1111111111111111,\"#46039f\"],[0.2222222222222222,\"#7201a8\"],[0.3333333333333333,\"#9c179e\"],[0.4444444444444444,\"#bd3786\"],[0.5555555555555556,\"#d8576b\"],[0.6666666666666666,\"#ed7953\"],[0.7777777777777778,\"#fb9f3a\"],[0.8888888888888888,\"#fdca26\"],[1.0,\"#f0f921\"]],\"type\":\"heatmap\"}],\"heatmapgl\":[{\"colorbar\":{\"outlinewidth\":0,\"ticks\":\"\"},\"colorscale\":[[0.0,\"#0d0887\"],[0.1111111111111111,\"#46039f\"],[0.2222222222222222,\"#7201a8\"],[0.3333333333333333,\"#9c179e\"],[0.4444444444444444,\"#bd3786\"],[0.5555555555555556,\"#d8576b\"],[0.6666666666666666,\"#ed7953\"],[0.7777777777777778,\"#fb9f3a\"],[0.8888888888888888,\"#fdca26\"],[1.0,\"#f0f921\"]],\"type\":\"heatmapgl\"}],\"histogram\":[{\"marker\":{\"pattern\":{\"fillmode\":\"overlay\",\"size\":10,\"solidity\":0.2}},\"type\":\"histogram\"}],\"histogram2d\":[{\"colorbar\":{\"outlinewidth\":0,\"ticks\":\"\"},\"colorscale\":[[0.0,\"#0d0887\"],[0.1111111111111111,\"#46039f\"],[0.2222222222222222,\"#7201a8\"],[0.3333333333333333,\"#9c179e\"],[0.4444444444444444,\"#bd3786\"],[0.5555555555555556,\"#d8576b\"],[0.6666666666666666,\"#ed7953\"],[0.7777777777777778,\"#fb9f3a\"],[0.8888888888888888,\"#fdca26\"],[1.0,\"#f0f921\"]],\"type\":\"histogram2d\"}],\"histogram2dcontour\":[{\"colorbar\":{\"outlinewidth\":0,\"ticks\":\"\"},\"colorscale\":[[0.0,\"#0d0887\"],[0.1111111111111111,\"#46039f\"],[0.2222222222222222,\"#7201a8\"],[0.3333333333333333,\"#9c179e\"],[0.4444444444444444,\"#bd3786\"],[0.5555555555555556,\"#d8576b\"],[0.6666666666666666,\"#ed7953\"],[0.7777777777777778,\"#fb9f3a\"],[0.8888888888888888,\"#fdca26\"],[1.0,\"#f0f921\"]],\"type\":\"histogram2dcontour\"}],\"mesh3d\":[{\"colorbar\":{\"outlinewidth\":0,\"ticks\":\"\"},\"type\":\"mesh3d\"}],\"parcoords\":[{\"line\":{\"colorbar\":{\"outlinewidth\":0,\"ticks\":\"\"}},\"type\":\"parcoords\"}],\"pie\":[{\"automargin\":true,\"type\":\"pie\"}],\"scatter\":[{\"marker\":{\"colorbar\":{\"outlinewidth\":0,\"ticks\":\"\"}},\"type\":\"scatter\"}],\"scatter3d\":[{\"line\":{\"colorbar\":{\"outlinewidth\":0,\"ticks\":\"\"}},\"marker\":{\"colorbar\":{\"outlinewidth\":0,\"ticks\":\"\"}},\"type\":\"scatter3d\"}],\"scattercarpet\":[{\"marker\":{\"colorbar\":{\"outlinewidth\":0,\"ticks\":\"\"}},\"type\":\"scattercarpet\"}],\"scattergeo\":[{\"marker\":{\"colorbar\":{\"outlinewidth\":0,\"ticks\":\"\"}},\"type\":\"scattergeo\"}],\"scattergl\":[{\"marker\":{\"colorbar\":{\"outlinewidth\":0,\"ticks\":\"\"}},\"type\":\"scattergl\"}],\"scattermapbox\":[{\"marker\":{\"colorbar\":{\"outlinewidth\":0,\"ticks\":\"\"}},\"type\":\"scattermapbox\"}],\"scatterpolar\":[{\"marker\":{\"colorbar\":{\"outlinewidth\":0,\"ticks\":\"\"}},\"type\":\"scatterpolar\"}],\"scatterpolargl\":[{\"marker\":{\"colorbar\":{\"outlinewidth\":0,\"ticks\":\"\"}},\"type\":\"scatterpolargl\"}],\"scatterternary\":[{\"marker\":{\"colorbar\":{\"outlinewidth\":0,\"ticks\":\"\"}},\"type\":\"scatterternary\"}],\"surface\":[{\"colorbar\":{\"outlinewidth\":0,\"ticks\":\"\"},\"colorscale\":[[0.0,\"#0d0887\"],[0.1111111111111111,\"#46039f\"],[0.2222222222222222,\"#7201a8\"],[0.3333333333333333,\"#9c179e\"],[0.4444444444444444,\"#bd3786\"],[0.5555555555555556,\"#d8576b\"],[0.6666666666666666,\"#ed7953\"],[0.7777777777777778,\"#fb9f3a\"],[0.8888888888888888,\"#fdca26\"],[1.0,\"#f0f921\"]],\"type\":\"surface\"}],\"table\":[{\"cells\":{\"fill\":{\"color\":\"#EBF0F8\"},\"line\":{\"color\":\"white\"}},\"header\":{\"fill\":{\"color\":\"#C8D4E3\"},\"line\":{\"color\":\"white\"}},\"type\":\"table\"}]},\"layout\":{\"annotationdefaults\":{\"arrowcolor\":\"#2a3f5f\",\"arrowhead\":0,\"arrowwidth\":1},\"autotypenumbers\":\"strict\",\"coloraxis\":{\"colorbar\":{\"outlinewidth\":0,\"ticks\":\"\"}},\"colorscale\":{\"diverging\":[[0,\"#8e0152\"],[0.1,\"#c51b7d\"],[0.2,\"#de77ae\"],[0.3,\"#f1b6da\"],[0.4,\"#fde0ef\"],[0.5,\"#f7f7f7\"],[0.6,\"#e6f5d0\"],[0.7,\"#b8e186\"],[0.8,\"#7fbc41\"],[0.9,\"#4d9221\"],[1,\"#276419\"]],\"sequential\":[[0.0,\"#0d0887\"],[0.1111111111111111,\"#46039f\"],[0.2222222222222222,\"#7201a8\"],[0.3333333333333333,\"#9c179e\"],[0.4444444444444444,\"#bd3786\"],[0.5555555555555556,\"#d8576b\"],[0.6666666666666666,\"#ed7953\"],[0.7777777777777778,\"#fb9f3a\"],[0.8888888888888888,\"#fdca26\"],[1.0,\"#f0f921\"]],\"sequentialminus\":[[0.0,\"#0d0887\"],[0.1111111111111111,\"#46039f\"],[0.2222222222222222,\"#7201a8\"],[0.3333333333333333,\"#9c179e\"],[0.4444444444444444,\"#bd3786\"],[0.5555555555555556,\"#d8576b\"],[0.6666666666666666,\"#ed7953\"],[0.7777777777777778,\"#fb9f3a\"],[0.8888888888888888,\"#fdca26\"],[1.0,\"#f0f921\"]]},\"colorway\":[\"#636efa\",\"#EF553B\",\"#00cc96\",\"#ab63fa\",\"#FFA15A\",\"#19d3f3\",\"#FF6692\",\"#B6E880\",\"#FF97FF\",\"#FECB52\"],\"font\":{\"color\":\"#2a3f5f\"},\"geo\":{\"bgcolor\":\"white\",\"lakecolor\":\"white\",\"landcolor\":\"#E5ECF6\",\"showlakes\":true,\"showland\":true,\"subunitcolor\":\"white\"},\"hoverlabel\":{\"align\":\"left\"},\"hovermode\":\"closest\",\"mapbox\":{\"style\":\"light\"},\"paper_bgcolor\":\"white\",\"plot_bgcolor\":\"#E5ECF6\",\"polar\":{\"angularaxis\":{\"gridcolor\":\"white\",\"linecolor\":\"white\",\"ticks\":\"\"},\"bgcolor\":\"#E5ECF6\",\"radialaxis\":{\"gridcolor\":\"white\",\"linecolor\":\"white\",\"ticks\":\"\"}},\"scene\":{\"xaxis\":{\"backgroundcolor\":\"#E5ECF6\",\"gridcolor\":\"white\",\"gridwidth\":2,\"linecolor\":\"white\",\"showbackground\":true,\"ticks\":\"\",\"zerolinecolor\":\"white\"},\"yaxis\":{\"backgroundcolor\":\"#E5ECF6\",\"gridcolor\":\"white\",\"gridwidth\":2,\"linecolor\":\"white\",\"showbackground\":true,\"ticks\":\"\",\"zerolinecolor\":\"white\"},\"zaxis\":{\"backgroundcolor\":\"#E5ECF6\",\"gridcolor\":\"white\",\"gridwidth\":2,\"linecolor\":\"white\",\"showbackground\":true,\"ticks\":\"\",\"zerolinecolor\":\"white\"}},\"shapedefaults\":{\"line\":{\"color\":\"#2a3f5f\"}},\"ternary\":{\"aaxis\":{\"gridcolor\":\"white\",\"linecolor\":\"white\",\"ticks\":\"\"},\"baxis\":{\"gridcolor\":\"white\",\"linecolor\":\"white\",\"ticks\":\"\"},\"bgcolor\":\"#E5ECF6\",\"caxis\":{\"gridcolor\":\"white\",\"linecolor\":\"white\",\"ticks\":\"\"}},\"title\":{\"x\":0.05},\"xaxis\":{\"automargin\":true,\"gridcolor\":\"white\",\"linecolor\":\"white\",\"ticks\":\"\",\"title\":{\"standoff\":15},\"zerolinecolor\":\"white\",\"zerolinewidth\":2},\"yaxis\":{\"automargin\":true,\"gridcolor\":\"white\",\"linecolor\":\"white\",\"ticks\":\"\",\"title\":{\"standoff\":15},\"zerolinecolor\":\"white\",\"zerolinewidth\":2}}},\"title\":{\"text\":\"Distribution of Star Wars Fans by States on Average\"},\"geo\":{\"scope\":\"usa\"}},                        {\"responsive\": true}                    ).then(function(){\n",
       "                            \n",
       "var gd = document.getElementById('27e4abe3-7871-42a0-ab65-f8408461dc30');\n",
       "var x = new MutationObserver(function (mutations, observer) {{\n",
       "        var display = window.getComputedStyle(gd).display;\n",
       "        if (!display || display === 'none') {{\n",
       "            console.log([gd, 'removed!']);\n",
       "            Plotly.purge(gd);\n",
       "            observer.disconnect();\n",
       "        }}\n",
       "}});\n",
       "\n",
       "// Listen for the removal of the full notebook cells\n",
       "var notebookContainer = gd.closest('#notebook-container');\n",
       "if (notebookContainer) {{\n",
       "    x.observe(notebookContainer, {childList: true});\n",
       "}}\n",
       "\n",
       "// Listen for the clearing of the current output cell\n",
       "var outputEl = gd.closest('.output');\n",
       "if (outputEl) {{\n",
       "    x.observe(outputEl, {childList: true});\n",
       "}}\n",
       "\n",
       "                        })                };                });            </script>        </div>"
      ]
     },
     "metadata": {},
     "output_type": "display_data"
    }
   ],
   "source": [
    "regions = { \"sa_states\" : [\"DE\", \"MD\", \"VA\", \"WV\", \"NC\", \"SC\", \"GA\", \"FL\", \"DC\"],\n",
    "            \"pacific\" : [\"AK\", \"CA\", \"HI\", \"OR\", \"WA\"],\n",
    "            \"enc\" : [\"IL\", \"IN\", \"MI\", \"OH\", \"WI\"],\n",
    "            \"mid_atl\" : [\"NJ\", \"NY\", \"PA\"],\n",
    "            \"wsc\" : [\"AR\", \"LA\", \"OK\", \"TX\"],\n",
    "            \"wnc\" : [\"IA\", \"KS\", \"MN\", \"MO\", \"NE\", \"ND\", \"SD\"],\n",
    "            \"mountain\" : [\"AZ\", \"CO\", \"ID\", \"MT\", \"NV\", \"NM\", \"UT\", \"WY\"],\n",
    "            \"ne\" : [\"ME\", \"VT\", \"NH\", \"MA\", \"CT\", \"RI\"],\n",
    "            \"esc\" : [\"AL\", \"KY\", \"MS\", \"TN\"],\n",
    "          }\n",
    "\n",
    "states = {}\n",
    "\n",
    "def state_calc():\n",
    "    for region in regions:\n",
    "        if region == \"sa_states\":\n",
    "            for state in regions[region]:\n",
    "                states[state] = round(88 / len(regions[region]))\n",
    "        elif region == \"pacific\":\n",
    "            for state in regions[region]:\n",
    "                states[state] = round(86 / len(regions[region]))\n",
    "        elif region == \"enc\":\n",
    "            for state in regions[region]:\n",
    "                states[state] = round(84 / len(regions[region]))\n",
    "        elif region == \"mid_atl\":\n",
    "            for state in regions[region]:\n",
    "                states[state] = round(64 / len(regions[region]))\n",
    "        elif region == \"wsc\":\n",
    "            for state in regions[region]:\n",
    "                states[state] = round(53 / len(regions[region]))\n",
    "        elif region == \"wnc\":\n",
    "            for state in regions[region]:\n",
    "                states[state] = round(53 / len(regions[region]))\n",
    "        elif region == \"mountain\":\n",
    "            for state in regions[region]:\n",
    "                states[state] = round(49 / len(regions[region]))\n",
    "        elif region == \"ne\":\n",
    "            for state in regions[region]:\n",
    "                states[state] = round(44 / len(regions[region]))\n",
    "        elif region == \"esc\":\n",
    "            for state in regions[region]:\n",
    "                states[state] = round(20 / len(regions[region]))\n",
    "                \n",
    "state_calc()\n",
    "\n",
    "df = pd.DataFrame.from_dict(states, orient=\"index\", columns=[\"fans\"])\n",
    "df.reset_index(inplace=True)\n",
    "df.rename({\"index\": \"code\"}, axis=1, inplace=True)\n",
    "\n",
    "fig = go.Figure(data = go.Choropleth(\n",
    "                                    locations = df[\"code\"],\n",
    "                                    z = df['fans'],\n",
    "                                    locationmode = 'USA-states',\n",
    "\n",
    "                                    colorbar_title = \"Fans per state\",\n",
    "                                    )\n",
    "               )\n",
    "\n",
    "fig.update_layout(\n",
    "                    title_text = 'Distribution of Star Wars Fans by States on Average',\n",
    "                    geo_scope='usa'\n",
    "                 )\n",
    "fig.write_html(\"interactive_map.html\")\n",
    "fig.show()"
   ]
  },
  {
   "cell_type": "code",
   "execution_count": null,
   "id": "d4cfc15f",
   "metadata": {},
   "outputs": [],
   "source": []
  }
 ],
 "metadata": {
  "kernelspec": {
   "display_name": "Python 3",
   "language": "python",
   "name": "python3"
  },
  "language_info": {
   "codemirror_mode": {
    "name": "ipython",
    "version": 3
   },
   "file_extension": ".py",
   "mimetype": "text/x-python",
   "name": "python",
   "nbconvert_exporter": "python",
   "pygments_lexer": "ipython3",
   "version": "3.8.8"
  }
 },
 "nbformat": 4,
 "nbformat_minor": 5
}
